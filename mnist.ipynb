{
  "nbformat": 4,
  "nbformat_minor": 0,
  "metadata": {
    "colab": {
      "name": "mnist.ipynb",
      "provenance": [],
      "collapsed_sections": [],
      "authorship_tag": "ABX9TyO4vb2F2yWHI/btLGIRCECq",
      "include_colab_link": true
    },
    "kernelspec": {
      "name": "python3",
      "display_name": "Python 3"
    },
    "language_info": {
      "name": "python"
    },
    "accelerator": "GPU",
    "gpuClass": "standard"
  },
  "cells": [
    {
      "cell_type": "markdown",
      "metadata": {
        "id": "view-in-github",
        "colab_type": "text"
      },
      "source": [
        "<a href=\"https://colab.research.google.com/github/taelee-young/Git-Tutorial/blob/master/mnist.ipynb\" target=\"_parent\"><img src=\"https://colab.research.google.com/assets/colab-badge.svg\" alt=\"Open In Colab\"/></a>"
      ]
    },
    {
      "cell_type": "code",
      "execution_count": 1,
      "metadata": {
        "colab": {
          "base_uri": "https://localhost:8080/"
        },
        "id": "prnZ-Q2zG_X7",
        "outputId": "af939829-0586-4d10-900b-3277a31fcb1c"
      },
      "outputs": [
        {
          "output_type": "stream",
          "name": "stdout",
          "text": [
            "Downloading data from https://storage.googleapis.com/tensorflow/tf-keras-datasets/mnist.npz\n",
            "11493376/11490434 [==============================] - 0s 0us/step\n",
            "11501568/11490434 [==============================] - 0s 0us/step\n"
          ]
        }
      ],
      "source": [
        "import numpy as np\n",
        "import tensorflow as tf\n",
        "from tensorflow.keras.datasets import mnist\n",
        "from tensorflow.keras.models import Sequential\n",
        "from tensorflow.keras.layers import Conv2D, MaxPool2D\n",
        "from tensorflow.keras.layers import Flatten, Dense, Dropout\n",
        "\n",
        "\n",
        "(x_train, y_train),(x_test, y_test) = mnist.load_data()"
      ]
    },
    {
      "cell_type": "code",
      "source": [
        "x_train= x_train.reshape(-1,28,28,1)\n",
        "x_test = x_test.reshape(-1,28,28,1)\n"
      ],
      "metadata": {
        "id": "FsnzaH4HIvHs"
      },
      "execution_count": 2,
      "outputs": []
    },
    {
      "cell_type": "code",
      "source": [
        "print(x_train.shape, x_test.shape)\n",
        "print(y_train.shape, y_test.shape)"
      ],
      "metadata": {
        "colab": {
          "base_uri": "https://localhost:8080/"
        },
        "id": "jA2s6rXLJeFL",
        "outputId": "bdbb1a0c-3059-4fa5-b2f1-98e672bf2950"
      },
      "execution_count": 3,
      "outputs": [
        {
          "output_type": "stream",
          "name": "stdout",
          "text": [
            "(60000, 28, 28, 1) (10000, 28, 28, 1)\n",
            "(60000,) (10000,)\n"
          ]
        }
      ]
    },
    {
      "cell_type": "code",
      "source": [
        "x_train = x_train.astype(np.float32)/ 255.0\n",
        "x_test  = x_test.astype(np.float32)/255.0"
      ],
      "metadata": {
        "id": "EmG7IqTgIt8T"
      },
      "execution_count": 4,
      "outputs": []
    },
    {
      "cell_type": "code",
      "source": [
        "cnn= Sequential()\n",
        "cnn.add(Conv2D(input_shape=(28,28,1), kernel_size=(3,3), filters=32, activation='relu'))\n",
        "cnn.add(Conv2D(kernel_size=(3,3),filters=64, activation='relu'))\n",
        "cnn.add(MaxPool2D(pool_size=(2,2)))\n",
        "cnn.add(Dropout(0.25))\n",
        "\n",
        "cnn.add(Flatten())\n",
        "cnn.add(Dense(128, activation='relu'))\n",
        "cnn.add(Dropout(0.5))\n",
        "cnn.add(Dense(10,activation='softmax'))\n"
      ],
      "metadata": {
        "id": "0RbYAbtZKrAT"
      },
      "execution_count": 5,
      "outputs": []
    },
    {
      "cell_type": "code",
      "source": [
        "cnn.compile(loss='sparse_categorical_crossentropy', optimizer=tf.keras.optimizers.Adam(), metrics=['accuracy'])\n",
        "hist = cnn.fit(x_train, y_train, batch_size=128, epochs=30, validation_data=(x_test, y_test))"
      ],
      "metadata": {
        "colab": {
          "base_uri": "https://localhost:8080/"
        },
        "id": "IN9BPZD1MytS",
        "outputId": "a5c028e0-a85b-447f-bfa6-8bbcfa503798"
      },
      "execution_count": 6,
      "outputs": [
        {
          "output_type": "stream",
          "name": "stdout",
          "text": [
            "Epoch 1/30\n",
            "469/469 [==============================] - 16s 9ms/step - loss: 0.2460 - accuracy: 0.9248 - val_loss: 0.0559 - val_accuracy: 0.9822\n",
            "Epoch 2/30\n",
            "469/469 [==============================] - 4s 9ms/step - loss: 0.0877 - accuracy: 0.9752 - val_loss: 0.0328 - val_accuracy: 0.9895\n",
            "Epoch 3/30\n",
            "469/469 [==============================] - 4s 9ms/step - loss: 0.0644 - accuracy: 0.9810 - val_loss: 0.0332 - val_accuracy: 0.9888\n",
            "Epoch 4/30\n",
            "469/469 [==============================] - 4s 9ms/step - loss: 0.0532 - accuracy: 0.9831 - val_loss: 0.0312 - val_accuracy: 0.9893\n",
            "Epoch 5/30\n",
            "469/469 [==============================] - 4s 9ms/step - loss: 0.0446 - accuracy: 0.9862 - val_loss: 0.0295 - val_accuracy: 0.9903\n",
            "Epoch 6/30\n",
            "469/469 [==============================] - 4s 9ms/step - loss: 0.0407 - accuracy: 0.9876 - val_loss: 0.0305 - val_accuracy: 0.9901\n",
            "Epoch 7/30\n",
            "469/469 [==============================] - 4s 9ms/step - loss: 0.0358 - accuracy: 0.9886 - val_loss: 0.0295 - val_accuracy: 0.9904\n",
            "Epoch 8/30\n",
            "469/469 [==============================] - 4s 9ms/step - loss: 0.0319 - accuracy: 0.9900 - val_loss: 0.0263 - val_accuracy: 0.9921\n",
            "Epoch 9/30\n",
            "469/469 [==============================] - 4s 9ms/step - loss: 0.0285 - accuracy: 0.9908 - val_loss: 0.0250 - val_accuracy: 0.9925\n",
            "Epoch 10/30\n",
            "469/469 [==============================] - 4s 9ms/step - loss: 0.0279 - accuracy: 0.9912 - val_loss: 0.0236 - val_accuracy: 0.9925\n",
            "Epoch 11/30\n",
            "469/469 [==============================] - 4s 9ms/step - loss: 0.0242 - accuracy: 0.9919 - val_loss: 0.0247 - val_accuracy: 0.9925\n",
            "Epoch 12/30\n",
            "469/469 [==============================] - 4s 9ms/step - loss: 0.0225 - accuracy: 0.9930 - val_loss: 0.0263 - val_accuracy: 0.9922\n",
            "Epoch 13/30\n",
            "469/469 [==============================] - 4s 9ms/step - loss: 0.0202 - accuracy: 0.9931 - val_loss: 0.0271 - val_accuracy: 0.9925\n",
            "Epoch 14/30\n",
            "469/469 [==============================] - 4s 9ms/step - loss: 0.0181 - accuracy: 0.9938 - val_loss: 0.0273 - val_accuracy: 0.9935\n",
            "Epoch 15/30\n",
            "469/469 [==============================] - 4s 9ms/step - loss: 0.0172 - accuracy: 0.9942 - val_loss: 0.0278 - val_accuracy: 0.9934\n",
            "Epoch 16/30\n",
            "469/469 [==============================] - 4s 9ms/step - loss: 0.0185 - accuracy: 0.9935 - val_loss: 0.0271 - val_accuracy: 0.9931\n",
            "Epoch 17/30\n",
            "469/469 [==============================] - 4s 9ms/step - loss: 0.0164 - accuracy: 0.9943 - val_loss: 0.0305 - val_accuracy: 0.9922\n",
            "Epoch 18/30\n",
            "469/469 [==============================] - 4s 9ms/step - loss: 0.0165 - accuracy: 0.9948 - val_loss: 0.0257 - val_accuracy: 0.9928\n",
            "Epoch 19/30\n",
            "469/469 [==============================] - 4s 9ms/step - loss: 0.0139 - accuracy: 0.9954 - val_loss: 0.0294 - val_accuracy: 0.9927\n",
            "Epoch 20/30\n",
            "469/469 [==============================] - 4s 9ms/step - loss: 0.0145 - accuracy: 0.9949 - val_loss: 0.0288 - val_accuracy: 0.9930\n",
            "Epoch 21/30\n",
            "469/469 [==============================] - 4s 9ms/step - loss: 0.0143 - accuracy: 0.9951 - val_loss: 0.0275 - val_accuracy: 0.9931\n",
            "Epoch 22/30\n",
            "469/469 [==============================] - 4s 9ms/step - loss: 0.0121 - accuracy: 0.9957 - val_loss: 0.0315 - val_accuracy: 0.9932\n",
            "Epoch 23/30\n",
            "469/469 [==============================] - 5s 10ms/step - loss: 0.0121 - accuracy: 0.9958 - val_loss: 0.0291 - val_accuracy: 0.9931\n",
            "Epoch 24/30\n",
            "469/469 [==============================] - 4s 9ms/step - loss: 0.0131 - accuracy: 0.9956 - val_loss: 0.0270 - val_accuracy: 0.9941\n",
            "Epoch 25/30\n",
            "469/469 [==============================] - 4s 9ms/step - loss: 0.0115 - accuracy: 0.9960 - val_loss: 0.0274 - val_accuracy: 0.9937\n",
            "Epoch 26/30\n",
            "469/469 [==============================] - 4s 9ms/step - loss: 0.0118 - accuracy: 0.9961 - val_loss: 0.0289 - val_accuracy: 0.9933\n",
            "Epoch 27/30\n",
            "469/469 [==============================] - 4s 9ms/step - loss: 0.0107 - accuracy: 0.9966 - val_loss: 0.0290 - val_accuracy: 0.9939\n",
            "Epoch 28/30\n",
            "469/469 [==============================] - 4s 9ms/step - loss: 0.0092 - accuracy: 0.9967 - val_loss: 0.0298 - val_accuracy: 0.9940\n",
            "Epoch 29/30\n",
            "469/469 [==============================] - 4s 9ms/step - loss: 0.0096 - accuracy: 0.9966 - val_loss: 0.0293 - val_accuracy: 0.9932\n",
            "Epoch 30/30\n",
            "469/469 [==============================] - 4s 9ms/step - loss: 0.0093 - accuracy: 0.9971 - val_loss: 0.0335 - val_accuracy: 0.9924\n"
          ]
        }
      ]
    },
    {
      "cell_type": "code",
      "source": [
        "cnn.evaluate(x_test, y_test)"
      ],
      "metadata": {
        "colab": {
          "base_uri": "https://localhost:8080/"
        },
        "id": "e2_OAJvqOdjK",
        "outputId": "837d0312-0cf6-4e65-978c-21e95700b517"
      },
      "execution_count": 7,
      "outputs": [
        {
          "output_type": "stream",
          "name": "stdout",
          "text": [
            "313/313 [==============================] - 1s 3ms/step - loss: 0.0335 - accuracy: 0.9924\n"
          ]
        },
        {
          "output_type": "execute_result",
          "data": {
            "text/plain": [
              "[0.03349548578262329, 0.9923999905586243]"
            ]
          },
          "metadata": {},
          "execution_count": 7
        }
      ]
    }
  ]
}